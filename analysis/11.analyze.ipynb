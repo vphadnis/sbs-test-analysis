{
 "cells": [
  {
   "cell_type": "markdown",
   "id": "349e4927",
   "metadata": {},
   "source": [
    "# Downstream Analysis\n",
    "\n",
    "This notebook should be used for downstream analysis of your OPS screen.\n",
    "Cells marked with <font color='red'>SET PARAMETERS</font> contain crucial variables that need to be set according to your specific experimental setup and data organization.\n",
    "Please review and modify these variables as needed before proceeding with the analysis."
   ]
  },
  {
   "cell_type": "markdown",
   "id": "42a52bb7",
   "metadata": {},
   "source": [
    "## <font color='red'>SET PARAMETERS</font>\n",
    "\n",
    "### Fixed parameters for cluster module\n",
    "\n",
    "- `CONFIG_FILE_PATH`: Path to a Brieflow config file used during processing. Absolute or relative to where workflows are run from."
   ]
  },
  {
   "cell_type": "code",
   "execution_count": null,
   "id": "9c90638f",
   "metadata": {},
   "outputs": [],
   "source": [
    "CONFIG_FILE_PATH = \"config/config.yml\""
   ]
  },
  {
   "cell_type": "code",
   "execution_count": null,
   "id": "fe24b1c3",
   "metadata": {},
   "outputs": [],
   "source": [
    "from pathlib import Path\n",
    "import warnings\n",
    "warnings.filterwarnings('ignore', category=UserWarning)\n",
    "import yaml\n",
    "import pandas as pd\n",
    "import matplotlib as plt\n",
    "\n",
    "from lib.cluster.cluster_analysis import (\n",
    "    differential_analysis, \n",
    "    waterfall_plot, \n",
    "    two_feature_plot, \n",
    "    cluster_heatmap\n",
    ")\n",
    "from lib.cluster.phate_leiden_clustering import plot_phate_leiden_clusters\n",
    "from lib.shared.metrics import get_all_stats"
   ]
  },
  {
   "cell_type": "code",
   "execution_count": null,
   "id": "733e511a",
   "metadata": {},
   "outputs": [],
   "source": [
    "# load config file and determine root path\n",
    "with open(CONFIG_FILE_PATH, \"r\") as config_file:\n",
    "    config = yaml.safe_load(config_file)\n",
    "    ROOT_FP = Path(config[\"all\"][\"root_fp\"])"
   ]
  },
  {
   "cell_type": "markdown",
   "id": "170bcd3c",
   "metadata": {},
   "source": [
    "## Pipeline Statistics Report\n",
    "\n",
    "This function analyzes the entire data processing pipeline from raw microscopy images to clustered perturbation profiles. It will:\n",
    "\n",
    "1. **Preprocessing**: Count input files and generated image tiles\n",
    "2. **SBS**: Analyze cell segmentation and barcode mapping success rates\n",
    "3. **Phenotype**: Count cells and morphological features extracted\n",
    "4. **Merge**: Calculate how many cells were successfully matched between SBS and phenotype data\n",
    "5. **Aggregation**: Measure perturbation coverage and batch effect correction (per cell class/channel)\n",
    "6. **Clustering**: Evaluate pathway enrichment and optimal clustering parameters\n",
    "\n",
    "**Expected runtime: 5-15 minutes** depending on dataset size, as this function loads and analyzes large parquet files to calculate batch statistics and enrichment metrics.\n",
    "\n",
    "The report will display progress updates as each stage is analyzed."
   ]
  },
  {
   "cell_type": "code",
   "execution_count": null,
   "id": "83b37783",
   "metadata": {},
   "outputs": [],
   "source": [
    "statistics = get_all_stats(config)"
   ]
  },
  {
   "cell_type": "code",
   "execution_count": null,
   "id": "8874ad09",
   "metadata": {},
   "outputs": [],
   "source": [
    "# Load cell classes and channel combos\n",
    "cluster_combo_fp = config[\"cluster\"][\"cluster_combo_fp\"]\n",
    "cluster_combos = pd.read_csv(cluster_combo_fp, sep=\"\\t\")\n",
    "\n",
    "CHANNEL_COMBOS = list(cluster_combos[\"channel_combo\"].unique())\n",
    "print(f\"Channel Combos: {CHANNEL_COMBOS}\")\n",
    "\n",
    "CELL_CLASSES = list(cluster_combos[\"cell_class\"].unique())\n",
    "print(f\"Cell classes: {CELL_CLASSES}\")\n",
    "\n",
    "LEIDEN_RESOLUTION = list(cluster_combos[\"leiden_resolution\"].unique())\n",
    "print(f\"Leiden resolution: {LEIDEN_RESOLUTION}\")"
   ]
  },
  {
   "cell_type": "markdown",
   "id": "10960eb9",
   "metadata": {},
   "source": [
    "## <font color='red'>SET PARAMETERS</font>\n",
    "\n",
    "### Cluster Selection for Analysis\n",
    "\n",
    "Set these parameters to select the specific cluster data to analyze:\n",
    "- `CHANNEL_COMBO`: Select from available channel combinations,\n",
    "- `CELL_CLASS`: Select from available cell classes,\n",
    "- `LEIDEN_RESOLUTION`: Select from available Leiden resolutions,\n",
    "\n",
    "These parameters determine which folder of cluster data will be analyzed."
   ]
  },
  {
   "cell_type": "code",
   "execution_count": null,
   "id": "b1b85917",
   "metadata": {},
   "outputs": [],
   "source": [
    "CHANNEL_COMBO = None\n",
    "CELL_CLASS = None\n",
    "LEIDEN_RESOLUTION = None"
   ]
  },
  {
   "cell_type": "code",
   "execution_count": null,
   "id": "a30b7052",
   "metadata": {},
   "outputs": [],
   "source": [
    "aggregate_file = ROOT_FP / \"aggregate\" / \"tsvs\" / f\"CeCl-{CELL_CLASS}_ChCo-{CHANNEL_COMBO}__feature_table.tsv\"\n",
    "print(f\"Aggregate file: {aggregate_file}\")\n",
    "\n",
    "if not aggregate_file.exists():\n",
    "    print(f\"Aggregate file does not exist: {aggregate_file}\")\n",
    "else:\n",
    "    print(f\"Aggregate file found\")\n",
    "\n",
    "cluster_path = ROOT_FP / \"cluster\" / CHANNEL_COMBO / CELL_CLASS / str(LEIDEN_RESOLUTION)\n",
    "print(f\"Cluster path: {cluster_path}\")\n",
    "\n",
    "if not cluster_path.exists():\n",
    "    print(f\"Cluster directory does not exist: {cluster_path}\")\n",
    "else:\n",
    "    print(f\"Cluster directory found\")"
   ]
  },
  {
   "cell_type": "markdown",
   "id": "4de6202a",
   "metadata": {},
   "source": [
    "## Feature Plot Analysis\n",
    "\n",
    "This section generates visualizations to explore the phenotypic effects of gene perturbations in your screen. The plots will help you:\n",
    "\n",
    "1. **Differential Feature Analysis**: Identify genes with significant phenotypic changes vs. controls\n",
    "2. **Waterfall Plots**: Rank genes by their effect on specific features of interest\n",
    "3. **Two-Feature Plots**: Discover relationships between different phenotypic measurements\n",
    "4. **Heatmaps**: Visualize patterns across multiple features and gene sets simultaneously\n",
    "\n",
    "The interactive analysis allow you to customize each visualization for your specific biological questions."
   ]
  },
  {
   "cell_type": "code",
   "execution_count": null,
   "id": "e435563e",
   "metadata": {},
   "outputs": [],
   "source": [
    "cluster_file = cluster_path / \"phate_leiden_clustering.tsv\"\n",
    "cluster_df = pd.read_csv(cluster_file, sep=\"\\t\")\n",
    "display(cluster_df)"
   ]
  },
  {
   "cell_type": "code",
   "execution_count": null,
   "id": "c7913d05",
   "metadata": {},
   "outputs": [],
   "source": [
    "aggregate_df = pd.read_csv(aggregate_file, sep=\"\\t\")\n",
    "display(aggregate_df)"
   ]
  },
  {
   "cell_type": "markdown",
   "id": "860ce83d",
   "metadata": {},
   "source": [
    "## <font color='red'>SET PARAMETERS</font>\n",
    "\n",
    "### Cluster Selection for Visualization\n",
    "\n",
    "Set these parameters to select the specific cluster to analyze:\n",
    "- `CLUSTER_ID`: The cluster of interest to generate plots."
   ]
  },
  {
   "cell_type": "code",
   "execution_count": null,
   "id": "072e11d3",
   "metadata": {},
   "outputs": [],
   "source": [
    "CLUSTER_ID = None"
   ]
  },
  {
   "cell_type": "code",
   "execution_count": null,
   "id": "98d28ab8",
   "metadata": {},
   "outputs": [],
   "source": [
    "print(f\"\\n{'='*50}\")\n",
    "print(f\"Analyzing Cluster {CLUSTER_ID}\")\n",
    "cluster_genes = cluster_df[cluster_df['cluster'] == CLUSTER_ID][config[\"aggregate\"][\"perturbation_name_col\"]]\n",
    "print(f\"Genes in Cluster {CLUSTER_ID}:\" ,\", \".join(cluster_genes.unique()))\n",
    "print(f\"{'='*50}\")\n",
    "\n",
    "# Run differential analysis using robust z-score\n",
    "diff_results = differential_analysis(\n",
    "    feature_df=aggregate_df,  \n",
    "    cluster_df=cluster_df,    \n",
    "    cluster_id=CLUSTER_ID,\n",
    "    control_type=\"nontargeting\",  \n",
    "    control_label=config[\"aggregate\"][\"control_key\"],\n",
    "    use_nonparametric=True,  \n",
    "    normalize_method=\"robust_zscore\"\n",
    ")\n",
    "\n",
    "# Display results in a more user-friendly format\n",
    "print(\"\\nTop Upregulated Features:\")\n",
    "up_df = diff_results['top_up'][['feature', 'robust_zscore', 'p_value', 'median_test', 'median_control']]\n",
    "up_df = up_df.rename(columns={\n",
    "    'robust_zscore': 'Z-score',\n",
    "    'p_value': 'p-value',\n",
    "    'median_test': 'Median (test)',\n",
    "    'median_control': 'Median (control)'\n",
    "})\n",
    "display(up_df.style.format({\n",
    "    'Z-score': '{:.2f}',\n",
    "    'p-value': '{:.2e}',\n",
    "    'Median (test)': '{:.3f}',\n",
    "    'Median (control)': '{:.3f}'\n",
    "}))\n",
    "\n",
    "print(\"\\nTop Downregulated Features:\")\n",
    "down_df = diff_results['top_down'][['feature', 'robust_zscore', 'p_value', 'median_test', 'median_control']]\n",
    "down_df = down_df.rename(columns={\n",
    "    'robust_zscore': 'Z-score',\n",
    "    'p_value': 'p-value',\n",
    "    'median_test': 'Median (test)',\n",
    "    'median_control': 'Median (control)'\n",
    "})\n",
    "display(down_df.style.format({\n",
    "    'Z-score': '{:.2f}',\n",
    "    'p-value': '{:.2e}',\n",
    "    'Median (test)': '{:.3f}',\n",
    "    'Median (control)': '{:.3f}'\n",
    "}))"
   ]
  },
  {
   "cell_type": "markdown",
   "id": "d9feb141",
   "metadata": {},
   "source": [
    "## <font color='red'>SET PARAMETERS</font>\n",
    "\n",
    "### Feature Selection for Visualization\n",
    "\n",
    "Set these parameters to select the specific cluster to analyze:\n",
    "- `FEATURES_TO_ANALYZE`: The features found in the differential analysis to generate plots for.\n",
    "- `GENES_TO_LABEL`: The genes within the cluster to label on the plots."
   ]
  },
  {
   "cell_type": "code",
   "execution_count": null,
   "id": "e6d2cbf3",
   "metadata": {},
   "outputs": [],
   "source": [
    "FEATURES_TO_ANALYZE = None\n",
    "GENES_TO_LABEL = None"
   ]
  },
  {
   "cell_type": "code",
   "execution_count": null,
   "id": "f3e21d31",
   "metadata": {},
   "outputs": [],
   "source": [
    "# Create waterfall plots for selected features\n",
    "print(\"\\n--- Waterfall Plots for Selected Features ---\")\n",
    "for feature in FEATURES_TO_ANALYZE:\n",
    "    print(f\"\\nPlotting: {feature}\")\n",
    "    waterfall_plot(\n",
    "        feature_df=aggregate_df, \n",
    "        feature=feature,\n",
    "        cluster_df=cluster_df,\n",
    "        cluster_id=CLUSTER_ID,\n",
    "        nontargeting_pattern=config[\"aggregate\"][\"control_key\"],\n",
    "        title=f\"Cluster {CLUSTER_ID}: {feature}\",\n",
    "        label_genes=GENES_TO_LABEL\n",
    "    )\n",
    "\n",
    "# Create two-feature plots for combinations\n",
    "print(\"\\n--- Two-Feature Plots ---\")\n",
    "# Generate all unique pairs of features\n",
    "feature_pairs = [(FEATURES_TO_ANALYZE[i], FEATURES_TO_ANALYZE[j]) \n",
    "                 for i in range(len(FEATURES_TO_ANALYZE)) \n",
    "                 for j in range(i+1, len(FEATURES_TO_ANALYZE))]\n",
    "\n",
    "for feature1, feature2 in feature_pairs:\n",
    "    print(f\"\\nPlotting: {feature1} vs {feature2}\")\n",
    "    two_feature_plot(\n",
    "        feature_df=aggregate_df,\n",
    "        x=feature1,\n",
    "        y=feature2,\n",
    "        cluster_df=cluster_df,\n",
    "        cluster_id=CLUSTER_ID,\n",
    "        nontargeting_pattern=config[\"aggregate\"][\"control_key\"],\n",
    "        title=f\"Cluster {CLUSTER_ID}: {feature1} vs {feature2}\",\n",
    "        label_genes=GENES_TO_LABEL\n",
    "    )\n",
    "\n",
    "# Create heatmap with all differential features\n",
    "print(\"\\n--- Heatmap of Differential Features ---\")\n",
    "# Get top features from differential analysis\n",
    "top_up = diff_results['top_up']['feature'].tolist() if not diff_results['top_up'].empty else []\n",
    "top_down = diff_results['top_down']['feature'].tolist() if not diff_results['top_down'].empty else []\n",
    "diff_features = top_up + top_down\n",
    "\n",
    "fig, ax, heatmap_data = cluster_heatmap(\n",
    "    feature_df=aggregate_df,\n",
    "    cluster_df=cluster_df,\n",
    "    cluster_ids=[CLUSTER_ID],\n",
    "    features=diff_features,\n",
    "    perturbation_name_col=config[\"aggregate\"][\"perturbation_name_col\"],\n",
    "    z_score=\"global\",\n",
    "    title=f\"Cluster {CLUSTER_ID}: Top Differential Features\",\n",
    ")\n",
    "\n",
    "# PHATE plot for the cluster\n",
    "print(\"\\n--- PHATE Plot for Cluster ---\")\n",
    "phate_fig = plot_phate_leiden_clusters(\n",
    "    phate_leiden_clustering=cluster_df,\n",
    "    perturbation_name_col=config[\"aggregate\"][\"perturbation_name_col\"],\n",
    "    control_key=config[\"aggregate\"][\"control_key\"],\n",
    "    clusters_of_interest=[CLUSTER_ID],\n",
    ")"
   ]
  },
  {
   "cell_type": "markdown",
   "id": "d5cd7f43",
   "metadata": {},
   "source": [
    "## Mozzarellm: LLM-based Gene Cluster Analysis\n",
    "\n",
    "### Overview\n",
    "[Mozzarellm](https://github.com/cheeseman-lab/mozzarellm) is a Python package that leverages Large Language Models (LLMs) to analyze gene clusters for pathway identification and novel gene discovery. This notebook guides you through the process of:\n",
    "\n",
    "1. **Loading and reshaping gene cluster data** from your OPS screen\n",
    "2. **Analyzing gene clusters with LLMs** to identify biological pathways\n",
    "3. **Categorizing genes** as established pathway members, uncharacterized, or having novel potential roles\n",
    "4. **Prioritizing candidates** for experimental validation\n",
    "\n",
    "### Prerequisites\n",
    "\n",
    "You need to install the mozzarellm package in your Brieflow environment:\n",
    "\n",
    "```bash\n",
    "pip install git+https://github.com/cheeseman-lab/mozzarellm.git\n",
    "```\n",
    "\n",
    "Mozzarellm requires API keys to access LLM services. You need at least one of these keys:\n",
    "\n",
    "- **OpenAI API Key**: Required for GPT models (gpt-4o, gpt-4.5, etc.)\n",
    "- **Anthropic API Key**: Required for Claude models (claude-3-7-sonnet, etc.)\n",
    "- **Google API Key**: Required for Gemini models (gemini-2.0-pro, etc.)\n",
    "\n",
    "These keys provide access to paid API services, and usage will incur costs based on the number of tokens processed. The cost per analysis varies by model but typically ranges from $0.01-$0.10 per cluster, depending on cluster size and model choice. For this reason, we only run these analyses on a specific chosen Leiden resolution, rather than across all of the generated possible resolutions."
   ]
  },
  {
   "cell_type": "code",
   "execution_count": null,
   "id": "141a94a9",
   "metadata": {},
   "outputs": [],
   "source": [
    "from mozzarellm import analyze_gene_clusters, reshape_to_clusters"
   ]
  },
  {
   "cell_type": "code",
   "execution_count": null,
   "id": "ae2f82a1",
   "metadata": {},
   "outputs": [],
   "source": [
    "# Set API keys\n",
    "os.environ[\"OPENAI_API_KEY\"] = \"your_openai_key_here\"\n",
    "os.environ[\"ANTHROPIC_API_KEY\"] = \"your_anthropic_key_here\"  \n",
    "os.environ[\"GOOGLE_API_KEY\"] = \"your_google_key_here\""
   ]
  },
  {
   "cell_type": "code",
   "execution_count": null,
   "id": "92aaf0a6",
   "metadata": {},
   "outputs": [],
   "source": [
    "RESULTS_DIR = cluster_path / \"mozzarellm_analysis\"\n",
    "RESULTS_DIR.mkdir(parents=True, exist_ok=True)\n",
    "print(f\"Results will be saved to: {RESULTS_DIR}\")"
   ]
  },
  {
   "cell_type": "code",
   "execution_count": null,
   "id": "2d530e15",
   "metadata": {},
   "outputs": [],
   "source": [
    "cluster_file = cluster_path / \"phate_leiden_clustering.tsv\"\n",
    "cluster_df = pd.read_csv(cluster_file, sep=\"\\t\")\n",
    "display(cluster_df)"
   ]
  },
  {
   "cell_type": "markdown",
   "id": "b6dd6cc8",
   "metadata": {},
   "source": [
    "## <font color='red'>SET PARAMETERS</font>: \n",
    "\n",
    "### Data Reshaping\n",
    "\n",
    "Configure gene clustering parameters:\n",
    "- `GENE_COL`: Column containing gene identifiers\n",
    "- `CLUSTER_COL`: Column containing cluster assignments\n",
    "- `UNIPROT_COL`: Column with UniProt annotations\n",
    "\n",
    "These parameters control how gene-level data is converted to cluster-level data. These are set to default values that will be established in upstream notebooks/snakemakes, and usually don't need to be manipulated."
   ]
  },
  {
   "cell_type": "code",
   "execution_count": null,
   "id": "8e791d22",
   "metadata": {},
   "outputs": [],
   "source": [
    "GENE_COL = config[\"aggregate\"][\"perturbation_name_col\"]\n",
    "CLUSTER_COL = \"cluster\"\n",
    "UNIPROT_COL = \"uniprot_function\""
   ]
  },
  {
   "cell_type": "code",
   "execution_count": null,
   "id": "0fb75890",
   "metadata": {},
   "outputs": [],
   "source": [
    "llm_cluster_df, llm_uniprot_df = reshape_to_clusters(\n",
    "    input_df=cluster_df, \n",
    "    gene_col=GENE_COL,\n",
    "    cluster_col=CLUSTER_COL,\n",
    "    uniprot_col=UNIPROT_COL, \n",
    "    verbose=True\n",
    ")\n",
    "display(llm_cluster_df)\n",
    "display(llm_uniprot_df)"
   ]
  },
  {
   "cell_type": "markdown",
   "id": "251d1dc1",
   "metadata": {},
   "source": [
    "## <font color='red'>SET PARAMETERS</font>: \n",
    "### LLM Analysis Configuration\n",
    "\n",
    "- `MODEL_NAME`: LLM to use for analysis. Usable models include:\n",
    "  - OpenAI: `o4-mini`, `o3-mini`, `gpt-4.1`, `gpt-4o`\n",
    "  - Anthropic: `claude-3-7-sonnet-20250219`, `claude-3-5-haiku-20241022`\n",
    "  - Google: `gemini-2.5-pro-preview-03-25`, `gemini-2.5-flash-preview-04-17`\n",
    "- `CONFIG_DICT`: Configuration file for the LLM model\n",
    "- `SCREEN_CONTEXT`: Context for the analysis and how to evaluate _clusters_\n",
    "- `CLUSTER_ANALYSIS_PROMPT`: Context for the analysis and how to evaluate _genes within clusters_\n",
    "\n",
    "Mozzarellm includes optimized [configurations](https://github.com/cheeseman-lab/mozzarellm/blob/main/mozzarellm/configs.py) and [prompts](https://github.com/cheeseman-lab/mozzarellm/blob/main/mozzarellm/prompts.py) you can import as shown below.\n",
    "\n",
    "Custom text files can also be used by setting `screen_context_path` and `cluster_analysis_prompt_path` parameters."
   ]
  },
  {
   "cell_type": "code",
   "execution_count": null,
   "id": "41d5d042",
   "metadata": {},
   "outputs": [],
   "source": [
    "from mozzarellm.prompts import ROBUST_SCREEN_CONTEXT, ROBUST_CLUSTER_PROMPT\n",
    "from mozzarellm.configs import DEFAULT_ANTHROPIC_CONFIG"
   ]
  },
  {
   "cell_type": "code",
   "execution_count": null,
   "id": "04d6e55e",
   "metadata": {},
   "outputs": [],
   "source": [
    "# Set up model configs\n",
    "MODEL_NAME = \"claude-3-7-sonnet-20250219\"\n",
    "CONFIG_DICT = DEFAULT_ANTHROPIC_CONFIG\n",
    "SCREEN_CONTEXT = ROBUST_SCREEN_CONTEXT\n",
    "CLUSTER_ANALYSIS_PROMPT = ROBUST_CLUSTER_PROMPT"
   ]
  },
  {
   "cell_type": "code",
   "execution_count": null,
   "id": "0593c652",
   "metadata": {},
   "outputs": [],
   "source": [
    "# Run LLM analysis\n",
    "anthropic_results = analyze_gene_clusters(\n",
    "    # Input data options\n",
    "    input_df=llm_cluster_df,\n",
    "    # Model and configuration\n",
    "    model_name=MODEL_NAME,\n",
    "    config_dict=CONFIG_DICT,\n",
    "    # Analysis context and prompts\n",
    "    screen_context=SCREEN_CONTEXT,\n",
    "    cluster_analysis_prompt=CLUSTER_ANALYSIS_PROMPT,\n",
    "    # Gene annotations\n",
    "    gene_annotations_df=llm_uniprot_df,\n",
    "    # Processing options\n",
    "    batch_size=1,\n",
    "    # Output options\n",
    "    output_file=f\"{RESULTS_DIR}/{MODEL_NAME}\",\n",
    "    save_outputs=True,\n",
    "    outputs_to_generate=[\"json\", \"clusters\", \"flagged_genes\"],\n",
    ")"
   ]
  }
 ],
 "metadata": {
  "kernelspec": {
   "display_name": "brieflow_aconcagua_env",
   "language": "python",
   "name": "python3"
  },
  "language_info": {
   "codemirror_mode": {
    "name": "ipython",
    "version": 3
   },
   "file_extension": ".py",
   "mimetype": "text/x-python",
   "name": "python",
   "nbconvert_exporter": "python",
   "pygments_lexer": "ipython3",
   "version": "3.11.11"
  }
 },
 "nbformat": 4,
 "nbformat_minor": 5
}
